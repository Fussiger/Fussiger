{
  "nbformat": 4,
  "nbformat_minor": 0,
  "metadata": {
    "colab": {
      "provenance": [],
      "include_colab_link": true
    },
    "kernelspec": {
      "name": "python3",
      "display_name": "Python 3"
    },
    "language_info": {
      "name": "python"
    }
  },
  "cells": [
    {
      "cell_type": "markdown",
      "metadata": {
        "id": "view-in-github",
        "colab_type": "text"
      },
      "source": [
        "<a href=\"https://colab.research.google.com/github/Fussiger/Fussiger/blob/main/C%C3%B3pia_de_Aula_2_Atividades.ipynb\" target=\"_parent\"><img src=\"https://colab.research.google.com/assets/colab-badge.svg\" alt=\"Open In Colab\"/></a>"
      ]
    },
    {
      "cell_type": "markdown",
      "source": [
        "# Atividades NumPy\n",
        "\n",
        "NumPy é um pacote extremamente interessante e necessário de aprender pois ele é o que está por trás de diversos pacotes mais avançados (alguns que veremos) do Pyhon. Alguns desses pacotes incluem o Pandas, Seaborn, Scikit-Learn e Tensorflow.\n",
        "\n",
        "A seguir serão passadas algumas atividades simples para a fixação do conteúdo."
      ],
      "metadata": {
        "id": "6g_L-PwS_tPa"
      }
    },
    {
      "cell_type": "code",
      "source": [
        "#Rode esse código para usar o numpy, sinta-se livre para alterá-lo.\n",
        "import numpy as np"
      ],
      "metadata": {
        "id": "jaMPX9rGEApx"
      },
      "execution_count": null,
      "outputs": []
    },
    {
      "cell_type": "markdown",
      "source": [
        "## Atividade 1\n",
        "\n",
        "Crie um Array que vá do número 2017 até 2024. Comente qual a principal diferença de um array para uma lista? Printe o tipo do array e o tipo dos elementos do array. Transforme esse array num array bidimensional.\n",
        "\n",
        "Desafio:\n",
        "Mude o tipo dos elementos array para o que ocupe menos memória possível sem alterar os elementos do array."
      ],
      "metadata": {
        "id": "5KBF94wnAb1i"
      }
    },
    {
      "cell_type": "code",
      "execution_count": null,
      "metadata": {
        "id": "54JsgjI__n_W",
        "colab": {
          "base_uri": "https://localhost:8080/"
        },
        "outputId": "e554fe27-269c-4c77-c82f-d4af909b4aeb"
      },
      "outputs": [
        {
          "output_type": "stream",
          "name": "stdout",
          "text": [
            "O array é [2017 2018 2019 2020 2021 2022 2023 2024]\n",
            "O tipo do array é <class 'numpy.ndarray'>\n",
            "O tipo dos elementos do array são int64\n",
            "O array bidiomensioanl tem a seguinte quantidade de linhas e colunas: (8, 1)\n"
          ]
        }
      ],
      "source": [
        "#Crie um Array que vá do número 2017 até 2024.\n",
        "array=np.arange(2017, 2025)\n",
        "print('O array é',array)\n",
        "\n",
        "#A lista é uma estrutura de dados já embutida no Python e o array precisa ser importado do pacote Numpy. o array usa menos memória do que a lista, é mais rápido nas operações de leitura e possibilita executar operações matemáticas sobre todos os itens de forma otimizada. Além disso, os arrays em Python são imutáveis, o que significa que não é permitido adicionar ou remover elementos em um determinada posição após a criação do array.\n",
        "\n",
        "\n",
        "#Printe o tipo do array e o tipo dos elementos do array\n",
        "print(f'O tipo do array é', type(array))\n",
        "print(f'O tipo dos elementos do array são', array.dtype)\n",
        "\n",
        "#Transforme esse array num array bidimensional.\n",
        "array_bidimensional = array.reshape(-1, 1)\n",
        "print('O array bidiomensioanl tem a seguinte quantidade de linhas e colunas:',array_bidimensional.shape)\n",
        "\n",
        "#Desafio: Mude o tipo dos elementos array para o que ocupe menos memória possível sem alterar os elementos do array."
      ]
    },
    {
      "cell_type": "markdown",
      "source": [
        "## Atividade 2\n",
        "\n",
        "1.   Crie um array de números aleatórios entre 0 e 10;\n",
        "2.   Defina um valor limite de 0 a 10, por exemplo, 4;\n",
        "3.   Encontre os índices dos elementos maiores do que o valor limite;\n",
        "4.   Acessar os valores dos elementos maiores do que o valor limite;\n",
        "5.   Substitua os valores maiores que o limite por 0.\n",
        "\n"
      ],
      "metadata": {
        "id": "2ebMd7pYT-2g"
      }
    },
    {
      "cell_type": "code",
      "source": [
        "#Crie um array de números aleatórios entre 0 e 10\n",
        "array = np.random.randint(0, 11, size=10)\n",
        "print('O array é',array)\n",
        "\n",
        "#Defina um valor limite de 0 a 10, por exemplo, 4\n",
        "valor_limite = 4\n",
        "print('O valor limite é',valor_limite)\n",
        "\n",
        "#Encontre os índices dos elementos maiores do que o valor limite\n",
        "indice_maior_limite = np.where(array > valor_limite)\n",
        "print('Os índices maiores que 4 são:',indice_maior_limite)\n",
        "\n",
        "#Acessar os valores dos elementos maiores do que o valor limite\n",
        "valor_maior_limite = array[indice_maior_limite]\n",
        "print('Os valores maiores que 4 são:',valor_maior_limite)\n",
        "\n",
        "#Substitua os valores maiores que o limite por 0\n",
        "novo_array = array[array > valor_limite] = 0\n",
        "print('o novo array é:', array)"
      ],
      "metadata": {
        "id": "PyL3Sd4CaBKP",
        "colab": {
          "base_uri": "https://localhost:8080/"
        },
        "outputId": "6b95e1a5-cc48-4085-f050-5d4fbf91132b"
      },
      "execution_count": null,
      "outputs": [
        {
          "output_type": "stream",
          "name": "stdout",
          "text": [
            "O array é [ 1  6  6  9  3 10  6  6  0 10]\n",
            "O valor limite é 4\n",
            "Os índices maiores que 4 são: (array([1, 2, 3, 5, 6, 7, 9]),)\n",
            "Os valores maiores que 4 são: [ 6  6  9 10  6  6 10]\n",
            "o novo array é: [1 0 0 0 3 0 0 0 0 0]\n"
          ]
        }
      ]
    },
    {
      "cell_type": "markdown",
      "source": [
        "## Atividade 3\n",
        "\n",
        "Foi adicionado uma lista para representar as vendas mensais de três empresas ao longo do ano.\n",
        "\n",
        "\n",
        "1.   Transforme essa lista em Array;\n",
        "2.   Calcule o valor minimo, maximo e medio da lista;\n",
        "3.   Calcule a soma de cada mês e adicione uma coluna com esses resultados;\n",
        "4.   Calcule a média de cada empresa (e da soma) e adicione como linha final;\n",
        "5.   Remova as agregações;\n",
        "6.   Separe o array em 4 arrays de trimestres.\n",
        "7.   Faça as vendas esperadas para o ano seguinte. Espera-se que o primeiro trimestre terá um crescimento de 5%, 15% para o segundo trimestre, queda de 5% para o terceiro trimestre e crescimento de 20% para o último trimestre.\n",
        "8. Junte esses arrays em um novo array, mantendo a separação por trimestre.\n",
        "\n",
        "Desafio: Faça as vendas esperadas através da multiplicação do array de vendas trimestrais pelo array de crescimento. Transforme o array resultante para que ele tenha o mesmo shape do array original.\n",
        "\n",
        "Espera-se Split, Stack, Concatenate e Delete.\n",
        "\n"
      ],
      "metadata": {
        "id": "41XqB18mC3Og"
      }
    },
    {
      "cell_type": "code",
      "source": [
        "vendas_mensais= [\n",
        "    [10000, 15000, 20000],  # Janeiro\n",
        "    [11000, 14000, 22000],  # Fevereiro\n",
        "    [12000, 16000, 21000],  # Março\n",
        "    [10500, 15500, 21500],  # Abril\n",
        "    [11500, 14500, 22500],  # Maio\n",
        "    [12500, 16500, 20500],  # Junho\n",
        "    [13000, 17000, 19500],  # Julho\n",
        "    [13500, 17500, 18500],  # Agosto\n",
        "    [14000, 18000, 17500],  # Setembro\n",
        "    [14500, 18500, 16500],  # Outubro\n",
        "    [15000, 19000, 15500],  # Novembro\n",
        "    [15500, 19500, 14500]   # Dezembro\n",
        "]\n",
        "\n",
        "#Transforme essa lista em Array;\n",
        "\n",
        "#Calcule o valor minimo, maximo e medio da lista;\n",
        "\n",
        "#Calcule a soma de cada mês e adicione uma coluna com esses resultados;\n",
        "\n",
        "#Calcule a média de cada empresa (e da soma) e adicione como linha final;\n",
        "\n",
        "#Remova as agregações;\n",
        "\n",
        "#Separe o array em 4 arrays de trimestres.\n",
        "\n",
        "#Faça as vendas esperadas para o ano seguinte. Espera-se que o primeiro trimestre terá um crescimento de 5%, 15% para o segundo trimestre, queda de 5% para o terceiro trimestre e crescimento de 20% para o último trimestre.\n",
        "\n",
        "#Junte esses arrays em um novo array, mantendo a separação por trimestre.\n"
      ],
      "metadata": {
        "id": "IL59o9i9EQgw"
      },
      "execution_count": null,
      "outputs": []
    },
    {
      "cell_type": "markdown",
      "source": [
        "## Atividade 4\n",
        "\n",
        "Crie um array com o nome de todos os membros do grupo. Uilize das propriedades do Numpy para deixar todos os nomes em letras maiúsculas."
      ],
      "metadata": {
        "id": "BKXS5SVYSqug"
      }
    },
    {
      "cell_type": "code",
      "source": [
        "#Crie um array com o nome de todos os membros do grupo\n",
        "nomes = np.array = ['Camila','Gabriel','Guilherme','Luiza','Vitor']\n",
        "print(nomes)\n",
        "\n",
        "#Deixar todos os nomes em letras maiúsculas\n",
        "nomes_maiusculos = np.char.upper(nomes)\n",
        "print(nomes_maiusculos)"
      ],
      "metadata": {
        "id": "dOVxoUZRaEhe",
        "colab": {
          "base_uri": "https://localhost:8080/"
        },
        "outputId": "ada0ddf2-5df9-436a-fa93-b54c8d6a74e4"
      },
      "execution_count": null,
      "outputs": [
        {
          "output_type": "stream",
          "name": "stdout",
          "text": [
            "['Camila', 'Gabriel', 'Guilherme', 'Luiza', 'Vitor']\n",
            "['CAMILA' 'GABRIEL' 'GUILHERME' 'LUIZA' 'VITOR']\n"
          ]
        }
      ]
    },
    {
      "cell_type": "markdown",
      "source": [
        "## Atividade 5\n",
        "\n",
        "Considerando manhã = 1 e tarde = 2, concatene o número do turno mais o número do grupo. Defina esse número como a seed. Crie uma sequencia de 10 números aleatorios entre 0 e 1. Calcule quantos desses são maiores que 0.5. Agora crie uma sequencia novamente. Essa sequencia é igual a primeira? Se não, crie uma sequencia \"aleatória\" novamente que tenha os mesmos números da primeira sequência. O que acontece se é repetido o código novamente?"
      ],
      "metadata": {
        "id": "3juf4wWTaEt_"
      }
    },
    {
      "cell_type": "code",
      "source": [
        "#Considerando manhã = 1 e tarde = 2, concatene o número do turno mais o número do grupo.\n",
        "manha = 1\n",
        "tarde = 2\n",
        "\n",
        "#Defina esse número como a seed. Crie uma sequencia de 10 números aleatorios entre 0 e 1.\n",
        "\n",
        "\n",
        "#Calcule quantos desses são maiores que 0.5.\n",
        "\n",
        "#Agora crie uma sequencia novamente.\n",
        "\n",
        "#Essa sequencia é igual a primeira? Se não, crie uma sequencia \"aleatória\" novamente que tenha os mesmos números da primeira sequência.\n",
        "\n",
        "#O que acontece se é repetido o código novamente?"
      ],
      "metadata": {
        "id": "8NyhDIRAfHg-"
      },
      "execution_count": null,
      "outputs": []
    }
  ]
}